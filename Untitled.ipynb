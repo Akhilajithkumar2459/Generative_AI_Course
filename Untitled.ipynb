{
 "cells": [
  {
   "cell_type": "code",
   "execution_count": 3,
   "id": "cf9e6829-3cad-4392-8a80-58c77c8c741f",
   "metadata": {},
   "outputs": [
    {
     "name": "stdout",
     "output_type": "stream",
     "text": [
      "Age is:  24 height is:  5.8 Name is:  Akhil\n"
     ]
    }
   ],
   "source": [
    "#Declaring and assigning variables\n",
    "age = 24\n",
    "height = 5.8\n",
    "name = \"Akhil\"\n",
    "is_student = True\n",
    "\n",
    "print(\"Age is: \",age,\"height is: \",height,\"Name is: \",name)\n"
   ]
  },
  {
   "cell_type": "code",
   "execution_count": 15,
   "id": "b5fef174-b300-4ea4-8ed6-3330a46be099",
   "metadata": {},
   "outputs": [
    {
     "name": "stdout",
     "output_type": "stream",
     "text": [
      "[4, 16, 36, 64, 100]\n"
     ]
    }
   ],
   "source": [
    "#List comprehension\n",
    "\n",
    "list1 = [i**2 for i in range(1,11)if i%2==0]\n",
    "print(list1)"
   ]
  },
  {
   "cell_type": "markdown",
   "id": "fa905523-547c-4f80-9235-2c976b8c69e5",
   "metadata": {},
   "source": [
    "### Dictionary"
   ]
  },
  {
   "cell_type": "code",
   "execution_count": 27,
   "id": "a9bfe250-8814-42e1-881a-5322d3064de1",
   "metadata": {},
   "outputs": [
    {
     "name": "stdout",
     "output_type": "stream",
     "text": [
      "{'age': 24, 'sex': 'M', 'class': 'Yes'}\n"
     ]
    }
   ],
   "source": [
    "lis1 = [\"age\",\"sex\",\"class\"]\n",
    "lis2 = [24,\"M\",\"Yes\"]\n",
    "pp = dict(zip(lis1,lis2))\n",
    "print(pp)"
   ]
  }
 ],
 "metadata": {
  "kernelspec": {
   "display_name": "Python 3 (ipykernel)",
   "language": "python",
   "name": "python3"
  },
  "language_info": {
   "codemirror_mode": {
    "name": "ipython",
    "version": 3
   },
   "file_extension": ".py",
   "mimetype": "text/x-python",
   "name": "python",
   "nbconvert_exporter": "python",
   "pygments_lexer": "ipython3",
   "version": "3.12.3"
  }
 },
 "nbformat": 4,
 "nbformat_minor": 5
}
