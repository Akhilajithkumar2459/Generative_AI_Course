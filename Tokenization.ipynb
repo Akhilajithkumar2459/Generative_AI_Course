{
  "nbformat": 4,
  "nbformat_minor": 0,
  "metadata": {
    "colab": {
      "provenance": []
    },
    "kernelspec": {
      "name": "python3",
      "display_name": "Python 3"
    },
    "language_info": {
      "name": "python"
    }
  },
  "cells": [
    {
      "cell_type": "code",
      "execution_count": 18,
      "metadata": {
        "colab": {
          "base_uri": "https://localhost:8080/"
        },
        "id": "bK5rwzlTKqOy",
        "outputId": "9d0e2ad9-bab0-4f13-a8d8-9f76db2862ba"
      },
      "outputs": [
        {
          "output_type": "stream",
          "name": "stderr",
          "text": [
            "[nltk_data] Downloading package punkt_tab to /root/nltk_data...\n",
            "[nltk_data]   Package punkt_tab is already up-to-date!\n"
          ]
        },
        {
          "output_type": "execute_result",
          "data": {
            "text/plain": [
              "True"
            ]
          },
          "metadata": {},
          "execution_count": 18
        }
      ],
      "source": [
        "import nltk\n",
        "nltk.download('punkt_tab')"
      ]
    },
    {
      "cell_type": "code",
      "source": [
        "corpus = \"\"\"he day has been coming for a while now. One week after eliminating the last two social media platforms left standing in my world — Facebook and LinkedIn — I have said so long to my Spotify Premium subscription.\n",
        "\n",
        "I have a feeling I will miss it about as much as I miss Netflix, which I got rid of this past January.\n",
        "\n",
        "So hooray for me.\n",
        "\n",
        "I’m not sure what it was that finally made me push it over the edge of the cliff. I wasn’t dissatisfied with their service, which I assured them of in their exit questionnaire. After all, all the music I could ever want was at my fingertips.\n",
        "\n",
        "It wasn’t the latest dollar per month increase either, I had weathered those before and I think by now we all realize it’s just par for the course with these things.\"\"\""
      ],
      "metadata": {
        "id": "7ixKMrIyKvNH"
      },
      "execution_count": 19,
      "outputs": []
    },
    {
      "cell_type": "code",
      "source": [
        "print(corpus)"
      ],
      "metadata": {
        "id": "QENKHJ2PLIr-",
        "colab": {
          "base_uri": "https://localhost:8080/"
        },
        "outputId": "732080ca-971c-41e0-ef07-21a11b480424"
      },
      "execution_count": 20,
      "outputs": [
        {
          "output_type": "stream",
          "name": "stdout",
          "text": [
            "he day has been coming for a while now. One week after eliminating the last two social media platforms left standing in my world — Facebook and LinkedIn — I have said so long to my Spotify Premium subscription.\n",
            "\n",
            "I have a feeling I will miss it about as much as I miss Netflix, which I got rid of this past January.\n",
            "\n",
            "So hooray for me.\n",
            "\n",
            "I’m not sure what it was that finally made me push it over the edge of the cliff. I wasn’t dissatisfied with their service, which I assured them of in their exit questionnaire. After all, all the music I could ever want was at my fingertips.\n",
            "\n",
            "It wasn’t the latest dollar per month increase either, I had weathered those before and I think by now we all realize it’s just par for the course with these things.\n"
          ]
        }
      ]
    },
    {
      "cell_type": "code",
      "source": [
        "##Tokenization\n",
        "#paragraph--> sentence\n",
        "from nltk.tokenize import sent_tokenize\n",
        "documents = sent_tokenize(corpus)\n",
        "print(documents)"
      ],
      "metadata": {
        "colab": {
          "base_uri": "https://localhost:8080/"
        },
        "id": "uW6eIKu2aOon",
        "outputId": "4c7fcc9c-6fb5-45b9-f6e1-b77f5c800502"
      },
      "execution_count": 21,
      "outputs": [
        {
          "output_type": "stream",
          "name": "stdout",
          "text": [
            "['he day has been coming for a while now.', 'One week after eliminating the last two social media platforms left standing in my world — Facebook and LinkedIn — I have said so long to my Spotify Premium subscription.', 'I have a feeling I will miss it about as much as I miss Netflix, which I got rid of this past January.', 'So hooray for me.', 'I’m not sure what it was that finally made me push it over the edge of the cliff.', 'I wasn’t dissatisfied with their service, which I assured them of in their exit questionnaire.', 'After all, all the music I could ever want was at my fingertips.', 'It wasn’t the latest dollar per month increase either, I had weathered those before and I think by now we all realize it’s just par for the course with these things.']\n"
          ]
        }
      ]
    },
    {
      "cell_type": "code",
      "source": [
        "from nltk.tokenize import word_tokenize\n",
        "\n",
        "word_tokenize(corpus)"
      ],
      "metadata": {
        "colab": {
          "base_uri": "https://localhost:8080/"
        },
        "id": "QBtAWqOFb8qV",
        "outputId": "6ebb2632-89e5-450d-f0d0-c923e755c35a"
      },
      "execution_count": 22,
      "outputs": [
        {
          "output_type": "execute_result",
          "data": {
            "text/plain": [
              "['he',\n",
              " 'day',\n",
              " 'has',\n",
              " 'been',\n",
              " 'coming',\n",
              " 'for',\n",
              " 'a',\n",
              " 'while',\n",
              " 'now',\n",
              " '.',\n",
              " 'One',\n",
              " 'week',\n",
              " 'after',\n",
              " 'eliminating',\n",
              " 'the',\n",
              " 'last',\n",
              " 'two',\n",
              " 'social',\n",
              " 'media',\n",
              " 'platforms',\n",
              " 'left',\n",
              " 'standing',\n",
              " 'in',\n",
              " 'my',\n",
              " 'world',\n",
              " '—',\n",
              " 'Facebook',\n",
              " 'and',\n",
              " 'LinkedIn',\n",
              " '—',\n",
              " 'I',\n",
              " 'have',\n",
              " 'said',\n",
              " 'so',\n",
              " 'long',\n",
              " 'to',\n",
              " 'my',\n",
              " 'Spotify',\n",
              " 'Premium',\n",
              " 'subscription',\n",
              " '.',\n",
              " 'I',\n",
              " 'have',\n",
              " 'a',\n",
              " 'feeling',\n",
              " 'I',\n",
              " 'will',\n",
              " 'miss',\n",
              " 'it',\n",
              " 'about',\n",
              " 'as',\n",
              " 'much',\n",
              " 'as',\n",
              " 'I',\n",
              " 'miss',\n",
              " 'Netflix',\n",
              " ',',\n",
              " 'which',\n",
              " 'I',\n",
              " 'got',\n",
              " 'rid',\n",
              " 'of',\n",
              " 'this',\n",
              " 'past',\n",
              " 'January',\n",
              " '.',\n",
              " 'So',\n",
              " 'hooray',\n",
              " 'for',\n",
              " 'me',\n",
              " '.',\n",
              " 'I',\n",
              " '’',\n",
              " 'm',\n",
              " 'not',\n",
              " 'sure',\n",
              " 'what',\n",
              " 'it',\n",
              " 'was',\n",
              " 'that',\n",
              " 'finally',\n",
              " 'made',\n",
              " 'me',\n",
              " 'push',\n",
              " 'it',\n",
              " 'over',\n",
              " 'the',\n",
              " 'edge',\n",
              " 'of',\n",
              " 'the',\n",
              " 'cliff',\n",
              " '.',\n",
              " 'I',\n",
              " 'wasn',\n",
              " '’',\n",
              " 't',\n",
              " 'dissatisfied',\n",
              " 'with',\n",
              " 'their',\n",
              " 'service',\n",
              " ',',\n",
              " 'which',\n",
              " 'I',\n",
              " 'assured',\n",
              " 'them',\n",
              " 'of',\n",
              " 'in',\n",
              " 'their',\n",
              " 'exit',\n",
              " 'questionnaire',\n",
              " '.',\n",
              " 'After',\n",
              " 'all',\n",
              " ',',\n",
              " 'all',\n",
              " 'the',\n",
              " 'music',\n",
              " 'I',\n",
              " 'could',\n",
              " 'ever',\n",
              " 'want',\n",
              " 'was',\n",
              " 'at',\n",
              " 'my',\n",
              " 'fingertips',\n",
              " '.',\n",
              " 'It',\n",
              " 'wasn',\n",
              " '’',\n",
              " 't',\n",
              " 'the',\n",
              " 'latest',\n",
              " 'dollar',\n",
              " 'per',\n",
              " 'month',\n",
              " 'increase',\n",
              " 'either',\n",
              " ',',\n",
              " 'I',\n",
              " 'had',\n",
              " 'weathered',\n",
              " 'those',\n",
              " 'before',\n",
              " 'and',\n",
              " 'I',\n",
              " 'think',\n",
              " 'by',\n",
              " 'now',\n",
              " 'we',\n",
              " 'all',\n",
              " 'realize',\n",
              " 'it',\n",
              " '’',\n",
              " 's',\n",
              " 'just',\n",
              " 'par',\n",
              " 'for',\n",
              " 'the',\n",
              " 'course',\n",
              " 'with',\n",
              " 'these',\n",
              " 'things',\n",
              " '.']"
            ]
          },
          "metadata": {},
          "execution_count": 22
        }
      ]
    },
    {
      "cell_type": "code",
      "source": [
        "for i in documents:\n",
        "  print(i)"
      ],
      "metadata": {
        "colab": {
          "base_uri": "https://localhost:8080/"
        },
        "id": "ObywInF4emz8",
        "outputId": "6e2cd72a-9869-4151-b50e-53092481eaab"
      },
      "execution_count": 23,
      "outputs": [
        {
          "output_type": "stream",
          "name": "stdout",
          "text": [
            "he day has been coming for a while now.\n",
            "One week after eliminating the last two social media platforms left standing in my world — Facebook and LinkedIn — I have said so long to my Spotify Premium subscription.\n",
            "I have a feeling I will miss it about as much as I miss Netflix, which I got rid of this past January.\n",
            "So hooray for me.\n",
            "I’m not sure what it was that finally made me push it over the edge of the cliff.\n",
            "I wasn’t dissatisfied with their service, which I assured them of in their exit questionnaire.\n",
            "After all, all the music I could ever want was at my fingertips.\n",
            "It wasn’t the latest dollar per month increase either, I had weathered those before and I think by now we all realize it’s just par for the course with these things.\n"
          ]
        }
      ]
    },
    {
      "cell_type": "code",
      "source": [
        "from nltk.tokenize import wordpunct_tokenize\n",
        "wordpunct_tokenize(corpus)"
      ],
      "metadata": {
        "colab": {
          "base_uri": "https://localhost:8080/"
        },
        "id": "o93-1i2Deq4O",
        "outputId": "1d4cb7f1-e7e4-4020-fc68-54a362bbddb0"
      },
      "execution_count": 24,
      "outputs": [
        {
          "output_type": "execute_result",
          "data": {
            "text/plain": [
              "['he',\n",
              " 'day',\n",
              " 'has',\n",
              " 'been',\n",
              " 'coming',\n",
              " 'for',\n",
              " 'a',\n",
              " 'while',\n",
              " 'now',\n",
              " '.',\n",
              " 'One',\n",
              " 'week',\n",
              " 'after',\n",
              " 'eliminating',\n",
              " 'the',\n",
              " 'last',\n",
              " 'two',\n",
              " 'social',\n",
              " 'media',\n",
              " 'platforms',\n",
              " 'left',\n",
              " 'standing',\n",
              " 'in',\n",
              " 'my',\n",
              " 'world',\n",
              " '—',\n",
              " 'Facebook',\n",
              " 'and',\n",
              " 'LinkedIn',\n",
              " '—',\n",
              " 'I',\n",
              " 'have',\n",
              " 'said',\n",
              " 'so',\n",
              " 'long',\n",
              " 'to',\n",
              " 'my',\n",
              " 'Spotify',\n",
              " 'Premium',\n",
              " 'subscription',\n",
              " '.',\n",
              " 'I',\n",
              " 'have',\n",
              " 'a',\n",
              " 'feeling',\n",
              " 'I',\n",
              " 'will',\n",
              " 'miss',\n",
              " 'it',\n",
              " 'about',\n",
              " 'as',\n",
              " 'much',\n",
              " 'as',\n",
              " 'I',\n",
              " 'miss',\n",
              " 'Netflix',\n",
              " ',',\n",
              " 'which',\n",
              " 'I',\n",
              " 'got',\n",
              " 'rid',\n",
              " 'of',\n",
              " 'this',\n",
              " 'past',\n",
              " 'January',\n",
              " '.',\n",
              " 'So',\n",
              " 'hooray',\n",
              " 'for',\n",
              " 'me',\n",
              " '.',\n",
              " 'I',\n",
              " '’',\n",
              " 'm',\n",
              " 'not',\n",
              " 'sure',\n",
              " 'what',\n",
              " 'it',\n",
              " 'was',\n",
              " 'that',\n",
              " 'finally',\n",
              " 'made',\n",
              " 'me',\n",
              " 'push',\n",
              " 'it',\n",
              " 'over',\n",
              " 'the',\n",
              " 'edge',\n",
              " 'of',\n",
              " 'the',\n",
              " 'cliff',\n",
              " '.',\n",
              " 'I',\n",
              " 'wasn',\n",
              " '’',\n",
              " 't',\n",
              " 'dissatisfied',\n",
              " 'with',\n",
              " 'their',\n",
              " 'service',\n",
              " ',',\n",
              " 'which',\n",
              " 'I',\n",
              " 'assured',\n",
              " 'them',\n",
              " 'of',\n",
              " 'in',\n",
              " 'their',\n",
              " 'exit',\n",
              " 'questionnaire',\n",
              " '.',\n",
              " 'After',\n",
              " 'all',\n",
              " ',',\n",
              " 'all',\n",
              " 'the',\n",
              " 'music',\n",
              " 'I',\n",
              " 'could',\n",
              " 'ever',\n",
              " 'want',\n",
              " 'was',\n",
              " 'at',\n",
              " 'my',\n",
              " 'fingertips',\n",
              " '.',\n",
              " 'It',\n",
              " 'wasn',\n",
              " '’',\n",
              " 't',\n",
              " 'the',\n",
              " 'latest',\n",
              " 'dollar',\n",
              " 'per',\n",
              " 'month',\n",
              " 'increase',\n",
              " 'either',\n",
              " ',',\n",
              " 'I',\n",
              " 'had',\n",
              " 'weathered',\n",
              " 'those',\n",
              " 'before',\n",
              " 'and',\n",
              " 'I',\n",
              " 'think',\n",
              " 'by',\n",
              " 'now',\n",
              " 'we',\n",
              " 'all',\n",
              " 'realize',\n",
              " 'it',\n",
              " '’',\n",
              " 's',\n",
              " 'just',\n",
              " 'par',\n",
              " 'for',\n",
              " 'the',\n",
              " 'course',\n",
              " 'with',\n",
              " 'these',\n",
              " 'things',\n",
              " '.']"
            ]
          },
          "metadata": {},
          "execution_count": 24
        }
      ]
    }
  ]
}